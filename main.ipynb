{
 "cells": [
  {
   "cell_type": "code",
   "execution_count": 1,
   "id": "bdfd4d90",
   "metadata": {},
   "outputs": [],
   "source": [
    "import os\n",
    "import pydicom\n",
    "import numpy as np\n",
    "from PIL import Image\n",
    "import openslide as openslide\n",
    "import scripts.conversion\n",
    "from PIL.GimpGradientFile import linear\n",
    "%load_ext autoreload\n",
    "%autoreload 2\n",
    "from tqdm import tqdm\n",
    "from IPython.display import clear_output\n"
   ]
  },
  {
   "cell_type": "code",
   "execution_count": 6,
   "id": "f296f17a",
   "metadata": {},
   "outputs": [
    {
     "name": "stdout",
     "output_type": "stream",
     "text": [
      "Found 1 files to process.\n"
     ]
    },
    {
     "name": "stderr",
     "output_type": "stream",
     "text": [
      "Converting files:   0%|          | 0/1 [00:00<?, ?file/s]"
     ]
    },
    {
     "name": "stderr",
     "output_type": "stream",
     "text": [
      "Converting files: 100%|██████████| 1/1 [00:53<00:00, 53.64s/file]"
     ]
    },
    {
     "name": "stdout",
     "output_type": "stream",
     "text": [
      "\n",
      "--- Conversion Summary ---\n",
      "[SVS] Saved: Her2Pos_Case_45.svs\n"
     ]
    },
    {
     "name": "stderr",
     "output_type": "stream",
     "text": [
      "\n"
     ]
    }
   ],
   "source": [
    "scripts.conversion.Conversiontopng.convert_dicom_svs_to_png(\n",
    "    input_folder=\"data\\\\Yale_HER2_cohort\\\\SVS_positive\",\n",
    "    output_folder=\"output_dsfalse\",\n",
    "    svs_level=0,\n",
    "    auto_downsample=False,\n",
    "    max_images=1,\n",
    ")\n"
   ]
  },
  {
   "cell_type": "code",
   "execution_count": null,
   "id": "0a59509d",
   "metadata": {},
   "outputs": [],
   "source": []
  },
  {
   "cell_type": "code",
   "execution_count": null,
   "id": "34ac0459",
   "metadata": {},
   "outputs": [],
   "source": [
    "# Import WSI training functions\n",
    "import scripts.train as wsi_train\n",
    "\n",
    "# Display available functions\n",
    "print(\"🧠 WSI Training Functions Available:\")\n",
    "print(\"1. wsi_train.create_trainer() - Create a trainer instance\")\n",
    "print(\"2. wsi_train.quick_train() - Quick training with default settings\")\n",
    "print(\"3. wsi_train.WSITrainer - Full trainer class for advanced use\")\n",
    "print(\"4. wsi_train.WholeSlideDataset - Dataset class for patch extraction\")"
   ]
  },
  {
   "cell_type": "code",
   "execution_count": null,
   "id": "60ec4e67",
   "metadata": {},
   "outputs": [],
   "source": [
    "# Quick Training Example\n",
    "# Uncomment and modify the parameters below to start training\n",
    "\n",
    "# trainer = wsi_train.quick_train(\n",
    "#     data_dir=\"data\\\\Yale_HER2_cohort\",  # Your data directory\n",
    "#     model_name='resnet50',              # or 'efficientnet_b0'\n",
    "#     num_classes=2,                      # Number of classes\n",
    "#     num_epochs=5,                       # Number of training epochs\n",
    "#     patch_size=224,                     # Size of patches\n",
    "#     patches_per_slide=20,               # Patches per slide\n",
    "#     batch_size=8                        # Batch size\n",
    "# )"
   ]
  },
  {
   "cell_type": "code",
   "execution_count": null,
   "id": "c50815ab",
   "metadata": {},
   "outputs": [],
   "source": [
    "# Advanced Training Example\n",
    "# For more control over training parameters\n",
    "\n",
    "# # Step 1: Create trainer\n",
    "# trainer = wsi_train.create_trainer(\n",
    "#     model_name='resnet50',\n",
    "#     num_classes=2,\n",
    "#     checkpoint_dir='checkpoints'\n",
    "# )\n",
    "\n",
    "# # Step 2: Prepare data\n",
    "# train_size, val_size = trainer.prepare_data(\n",
    "#     data_dir=\"data\\\\Yale_HER2_cohort\",\n",
    "#     patch_size=224,\n",
    "#     patches_per_slide=50,\n",
    "#     batch_size=16,\n",
    "#     val_split=0.2,\n",
    "#     num_workers=2\n",
    "# )\n",
    "\n",
    "# # Step 3: Setup training parameters\n",
    "# trainer.setup_training(\n",
    "#     learning_rate=0.001,\n",
    "#     weight_decay=1e-4\n",
    "# )\n",
    "\n",
    "# # Step 4: Load existing checkpoint (if any)\n",
    "# trainer.load_checkpoint()\n",
    "\n",
    "# # Step 5: Start training\n",
    "# trainer.train(num_epochs=10)"
   ]
  },
  {
   "cell_type": "code",
   "execution_count": null,
   "id": "ef68c008",
   "metadata": {},
   "outputs": [],
   "source": [
    "# Training Visualization and Evaluation\n",
    "# Use these after training is complete\n",
    "\n",
    "# # Plot training progress\n",
    "# if 'trainer' in locals():\n",
    "#     trainer.plot_training_progress()\n",
    "\n",
    "# # Save the trained model\n",
    "# if 'trainer' in locals():\n",
    "#     trainer.save_checkpoint(\n",
    "#         trainer.current_epoch, \n",
    "#         trainer.best_val_acc, \n",
    "#         is_best=True\n",
    "#     )\n",
    "#     print(f\"Model saved! Best accuracy: {trainer.best_val_acc:.4f}\")\n",
    "\n",
    "# # Load a saved model for inference\n",
    "# model, class_names, checkpoint = wsi_train.load_model_for_inference('checkpoints/best_model.pth')\n",
    "# print(f\"Loaded model with classes: {class_names}\")"
   ]
  }
 ],
 "metadata": {
  "kernelspec": {
   "display_name": "base",
   "language": "python",
   "name": "python3"
  },
  "language_info": {
   "codemirror_mode": {
    "name": "ipython",
    "version": 3
   },
   "file_extension": ".py",
   "mimetype": "text/x-python",
   "name": "python",
   "nbconvert_exporter": "python",
   "pygments_lexer": "ipython3",
   "version": "3.12.3"
  }
 },
 "nbformat": 4,
 "nbformat_minor": 5
}
