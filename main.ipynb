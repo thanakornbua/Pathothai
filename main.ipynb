{
 "cells": [
  {
   "cell_type": "code",
   "execution_count": 2,
   "id": "bdfd4d90",
   "metadata": {},
   "outputs": [],
   "source": [
    "import os\n",
    "import pydicom\n",
    "import numpy as np\n",
    "from PIL import Image\n",
    "import openslide as openslide\n",
    "import scripts.conversion\n",
    "from PIL.GimpGradientFile import linear\n",
    "%load_ext autoreload\n",
    "%autoreload 2\n",
    "from tqdm import tqdm\n",
    "from IPython.display import clear_output\n"
   ]
  },
  {
   "cell_type": "code",
   "execution_count": 4,
   "id": "f296f17a",
   "metadata": {},
   "outputs": [
    {
     "name": "stdout",
     "output_type": "stream",
     "text": [
      "Found 192 files to process.\n"
     ]
    },
    {
     "name": "stderr",
     "output_type": "stream",
     "text": [
      "Converting files: 100%|██████████| 10/10 [00:02<00:00,  3.91file/s]"
     ]
    },
    {
     "name": "stdout",
     "output_type": "stream",
     "text": [
      "\n",
      "--- Conversion Summary ---\n",
      "[SVS] Saved: Her2Neg_Case_02.svs (Time: 0.68s)\n",
      "[SVS] Saved: Her2Neg_Case_08.svs (Time: 0.73s)\n",
      "[SVS] Saved: Her2Neg_Case_07.svs (Time: 0.88s)\n",
      "[SVS] Saved: Her2Neg_Case_05.svs (Time: 1.25s)\n",
      "[SVS] Saved: Her2Neg_Case_04.svs (Time: 1.49s)\n",
      "[SVS] Saved: Her2Neg_Case_06.svs (Time: 1.76s)\n",
      "[SVS] Saved: Her2Neg_Case_03.svs (Time: 1.85s)\n",
      "[SVS] Saved: Her2Neg_Case_10.svs (Time: 1.20s)\n",
      "[SVS] Saved: Her2Neg_Case_09.svs (Time: 1.47s)\n",
      "[SVS] Saved: Her2Neg_Case_01.svs (Time: 2.56s)\n"
     ]
    },
    {
     "name": "stderr",
     "output_type": "stream",
     "text": [
      "\n"
     ]
    }
   ],
   "source": [
    "scripts.conversion.Conversiontopng.convert_dicom_svs_to_png(\n",
    "    input_folder=\"data\\\\Yale_HER2_cohort\\\\SVS\",\n",
    "    output_folder=\"output\",\n",
    "    svs_level=0,\n",
    "    auto_downsample=True,\n",
    "    max_images=10\n",
    ")"
   ]
  }
 ],
 "metadata": {
  "kernelspec": {
   "display_name": "Python 3",
   "language": "python",
   "name": "python3"
  },
  "language_info": {
   "codemirror_mode": {
    "name": "ipython",
    "version": 3
   },
   "file_extension": ".py",
   "mimetype": "text/x-python",
   "name": "python",
   "nbconvert_exporter": "python",
   "pygments_lexer": "ipython3",
   "version": "3.12.3"
  }
 },
 "nbformat": 4,
 "nbformat_minor": 5
}
